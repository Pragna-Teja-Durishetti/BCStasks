{
  "nbformat": 4,
  "nbformat_minor": 0,
  "metadata": {
    "colab": {
      "provenance": [],
      "authorship_tag": "ABX9TyMBsV+/aax3dwD723cmO8OI",
      "include_colab_link": true
    },
    "kernelspec": {
      "name": "python3",
      "display_name": "Python 3"
    },
    "language_info": {
      "name": "python"
    }
  },
  "cells": [
    {
      "cell_type": "markdown",
      "metadata": {
        "id": "view-in-github",
        "colab_type": "text"
      },
      "source": [
        "<a href=\"https://colab.research.google.com/github/Pragna-Teja-Durishetti/BCStasks/blob/main/DanceOfPlanets.ipynb\" target=\"_parent\"><img src=\"https://colab.research.google.com/assets/colab-badge.svg\" alt=\"Open In Colab\"/></a>"
      ]
    },
    {
      "cell_type": "code",
      "execution_count": null,
      "metadata": {
        "id": "gKKbMVSEBnR3"
      },
      "outputs": [],
      "source": [
        "import numpy as np\n",
        "\n",
        "# Gravitational constant\n",
        "G = 6.67430e-11\n",
        "\n",
        "# User-defined values\n",
        "m1 = 500\n",
        "m2 = 20\n",
        "x1_0 = np.array([0.0, 0.0])  # Initial position of m1\n",
        "x2_0 = np.array([100.0, 0.0])  # Initial position of m2\n",
        "v1_0 = np.array([0.0, 0.0])  # Initial velocity of m1\n",
        "v2_0 = np.array([0.0, 5.0])  # Initial velocity of m2\n",
        "t_predict =  1000  # Predict position after 1000 seconds\n"
      ]
    },
    {
      "cell_type": "code",
      "source": [
        "!pip install scipy"
      ],
      "metadata": {
        "colab": {
          "base_uri": "https://localhost:8080/"
        },
        "id": "qouG5cZJBy-A",
        "outputId": "e53360d8-88a9-4515-8617-0d32474a02a2"
      },
      "execution_count": null,
      "outputs": [
        {
          "output_type": "stream",
          "name": "stdout",
          "text": [
            "Requirement already satisfied: scipy in /usr/local/lib/python3.11/dist-packages (1.15.3)\n",
            "Requirement already satisfied: numpy<2.5,>=1.23.5 in /usr/local/lib/python3.11/dist-packages (from scipy) (2.0.2)\n"
          ]
        }
      ]
    },
    {
      "cell_type": "code",
      "source": [
        "from scipy.integrate import solve_ivp\n",
        "\n",
        "def two_body_derivatives(t, y): #The function two_body_derivatives computes the derivatives of the state vector y (positions and velocities) by calculating gravitational accelerations (a1, a2) from the mutual force between the bodies, scaled by their masses (m1, m2) and the gravitational constant G.\n",
        "    x1 = y[:2]\n",
        "    x2 = y[2:4]\n",
        "    v1 = y[4:6]\n",
        "    v2 = y[6:8]\n",
        "    r = np.linalg.norm(x2 - x1)\n",
        "    a1 = G * m2 * (x2 - x1) / r**3\n",
        "    a2 = G * m1 * (x1 - x2) / r**3\n",
        "    return np.concatenate([v1, v2, a1, a2])\n",
        "\n",
        "initial_state = np.concatenate([x1_0, x2_0, v1_0, v2_0])\n",
        "time_span = (0, t_predict)\n",
        "time_eval = np.linspace(*time_span, 1000)\n",
        "sol = solve_ivp(two_body_derivatives, time_span, initial_state, t_eval=time_eval) #Using solve_ivp from SciPy, it numerically integrates these equations over a specified time span (time_span), returning the positions and velocities at 1000 evenly spaced time points (time_eval).\n",
        "\n",
        "X_data = sol.t.reshape(-1, 1)\n",
        "y_data = sol.y.T[:, [0,1,2,3]]  # x1 and x2 positions only\n"
      ],
      "metadata": {
        "id": "s_JPZh9HB2jn"
      },
      "execution_count": null,
      "outputs": []
    },
    {
      "cell_type": "code",
      "source": [
        "\n",
        "# Train-test split\n",
        "split_idx = int(0.8 * len(X_data))\n",
        "X_train, X_test = X_data[:split_idx], X_data[split_idx:]\n",
        "y_train, y_test = y_data[:split_idx], y_data[split_idx:]\n"
      ],
      "metadata": {
        "id": "7M8KCAw_CGJ1"
      },
      "execution_count": null,
      "outputs": []
    },
    {
      "cell_type": "code",
      "source": [
        "# --- Model Definition Cell ---\n",
        "import torch\n",
        "import torch.nn as nn\n",
        "\n",
        "class Net(nn.Module):\n",
        "    def __init__(self):\n",
        "        super(Net, self).__init__()\n",
        "        self.net = nn.Sequential(\n",
        "            nn.Linear(1, 128), # Input layer\n",
        "            nn.Tanh(),# 3 Hidden layers with Tanh activation for smooth nonlinearity\n",
        "            nn.Linear(128, 128),\n",
        "            nn.Tanh(),\n",
        "            nn.Linear(128, 4) # Output LAYER : nn.Linear(128, 4) (predicts 4 values: likely the [x1, y1, x2, y2] positions of the two bodies)\n",
        "        )\n",
        "\n",
        "    def forward(self, t):\n",
        "        return self.net(t)\n",
        "\n",
        "model = Net()\n",
        "criterion = nn.MSELoss()# Mean Squared Error\n",
        "optimizer = torch.optim.Adam(model.parameters(), lr=1e-3) #Adam (adaptive learning rate, default lr=1e-3) for gradient descent\n",
        "\n",
        "# Convert data to torch tensors\n",
        "X_train_torch = torch.tensor(X_train, dtype=torch.float32)\n",
        "y_train_torch = torch.tensor(y_train, dtype=torch.float32)\n",
        "\n",
        "# Training loop\n",
        "for epoch in range(10000):\n",
        "    optimizer.zero_grad()\n",
        "    outputs = model(X_train_torch)\n",
        "    loss = criterion(outputs, y_train_torch) #Compares predictions (outputs) to true positions (y_train_torch) using MSE\n",
        "    loss.backward()#loss.backward() computes gradients\n",
        "    optimizer.step()#optimizer.step() updates weights\n",
        "    if epoch % 1000 == 0:\n",
        "        print(f\"Epoch {epoch}, Loss: {loss.item():.6f}\") #Prints loss every 1000 epochs to monitor convergence\n"
      ],
      "metadata": {
        "colab": {
          "base_uri": "https://localhost:8080/"
        },
        "id": "TFIi2SI2COz8",
        "outputId": "09100075-40f9-4b8c-9cbe-eb2a7ec407e1"
      },
      "execution_count": null,
      "outputs": [
        {
          "output_type": "stream",
          "name": "stdout",
          "text": [
            "Epoch 0, Loss: 1336085.875000\n",
            "Epoch 1000, Loss: 1203912.500000\n",
            "Epoch 2000, Loss: 1091277.875000\n",
            "Epoch 3000, Loss: 987566.500000\n",
            "Epoch 4000, Loss: 891553.625000\n",
            "Epoch 5000, Loss: 802533.500000\n",
            "Epoch 6000, Loss: 720019.687500\n",
            "Epoch 7000, Loss: 643636.937500\n",
            "Epoch 8000, Loss: 573084.312500\n",
            "Epoch 9000, Loss: 508091.312500\n"
          ]
        }
      ]
    },
    {
      "cell_type": "code",
      "source": [
        "\n",
        "# --- Evaluation Criteria Cell ---\n",
        "from sklearn.metrics import mean_absolute_error\n",
        "\n",
        "# Prediction on test data\n",
        "\n",
        "X_test_torch = torch.tensor(X_test, dtype=torch.float32)#Converts test input (time values) to a PyTorch tensor\n",
        "preds = model(X_test_torch).detach().numpy()# Runs the model on test data and converts the output tensor to a NumPy array\n",
        "mae_position = mean_absolute_error(y_test, preds) # Computes MAE between true positions (y_test) and predictions (preds)\n",
        "print(f\"MAE on position prediction: {mae_position:.6f} m\")\n"
      ],
      "metadata": {
        "colab": {
          "base_uri": "https://localhost:8080/"
        },
        "id": "ZqCMreARCkQF",
        "outputId": "ad116ae7-a3cd-4a8f-9e21-bdf33f68b895"
      },
      "execution_count": null,
      "outputs": [
        {
          "output_type": "stream",
          "name": "stdout",
          "text": [
            "MAE on position prediction: 820.774889 m\n"
          ]
        }
      ]
    },
    {
      "cell_type": "code",
      "source": [
        "\n",
        "# --- Final Model Performance Cell ---\n",
        "x1_final, x2_final = model(torch.tensor([[t_predict]], dtype=torch.float32)).detach().numpy().reshape(2,2) # Feeds the time t_predict into the trained neural network then converts the output tensor to a NumPy array and detaches it from the computation graph and Reshapes the output into two 2D coordinates\n",
        "print(f\"Predicted position at t={t_predict} s\")\n",
        "print(f\"x1: {x1_final}, x2: {x2_final}\")\n"
      ],
      "metadata": {
        "id": "Q8VEYFRcC25-",
        "outputId": "783eee02-ed47-4cc3-a403-75b1cdf7581c",
        "colab": {
          "base_uri": "https://localhost:8080/"
        }
      },
      "execution_count": null,
      "outputs": [
        {
          "output_type": "stream",
          "name": "stdout",
          "text": [
            "Predicted position at t=1000 s\n",
            "x1: [ 0.00116542 -0.00146379], x2: [  99.98431 1218.921  ]\n"
          ]
        }
      ]
    }
  ]
}